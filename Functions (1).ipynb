{
  "nbformat": 4,
  "nbformat_minor": 0,
  "metadata": {
    "colab": {
      "provenance": []
    },
    "kernelspec": {
      "name": "python3",
      "display_name": "Python 3"
    },
    "language_info": {
      "name": "python"
    }
  },
  "cells": [
    {
      "cell_type": "markdown",
      "source": [
        "#Theory Questions:\n"
      ],
      "metadata": {
        "id": "3gsXv1rt3Ivk"
      }
    },
    {
      "cell_type": "markdown",
      "source": [
        "1. What is the difference between a function and a method in Python?\n",
        "   - In Python, functions and methods are both blocks of reusable code that perform specific tasks, but there are key differences between the two:\n",
        "    - Definition and Scope:\n",
        "      - A function is a standalone block of code defined using the def keyword.\n",
        "      - Functions are not inherently tied to any object or class and can exist\n",
        "        independently.\n",
        "      - A method is a function that is associated with an object and belongs to\n",
        "        a class.\n",
        "      - Methods are called on objects, and they can access or modify the data   (attributes) of the object they belong to.\n",
        "    - Call Context:\n",
        "      - Function:\n",
        "        - Called directly using its name and optional arguments.\n",
        "        - It doesn't rely on an instance or object to be executed.\n",
        "      - Method:\n",
        "        - Called on an object or class instance, and the method often has  \n",
        "          access to the object’s attributes or state through the self keyword (for instance methods).\n",
        "        - The syntax is typically object.method().\n",
        "    - Binding\n",
        "      - Function:\n",
        "        - Functions are not bound to any object. They can operate on any input\n",
        "          data provided to them.\n",
        "      - Method:\n",
        "        - Methods are bound to an object or class. For instance methods, the\n",
        "          object on which the method is called is passed as the first argument (self).\n",
        "\n"
      ],
      "metadata": {
        "id": "wUuLf3kJ3Pko"
      }
    },
    {
      "cell_type": "markdown",
      "source": [
        "2. Explain the concept of function arguments and parameters in Python.\n",
        "   - In Python, function arguments and parameters are key concepts in defining and using functions. They allow you to pass information to functions, making them flexible and reusable.\n",
        "   - Parameters:\n",
        "     - Parameters are the placeholders in a function definition.\n",
        "     - They define the inputs that a function can accept when it is called.\n",
        "     - Parameters are specified within the parentheses of the function definition.\n",
        "   - Arguments:\n",
        "     - Arguments are the actual values passed to a function when it is called.\n",
        "     - These values are assigned to the corresponding parameters in the function."
      ],
      "metadata": {
        "id": "fDvfo3OW3TbA"
      }
    },
    {
      "cell_type": "markdown",
      "source": [
        "3. What are the different ways to define and call a function in Python?\n",
        "   - In Python, functions are a core feature that allow reusable, modular blocks of code. There are multiple ways to define and call functions depending on the desired functionality.\n",
        "   - Defining Functions:\n",
        "     - Standard Function Definition>>\n",
        "       - Defined using the def keyword followed by the function name and parentheses.\n",
        "       - May include a return statement to send back a result.\n",
        "     - Lambda (Anonymous) Functions>>\n",
        "       - Defined using the lambda keyword for simple, single-expression\n",
        "         functions.\n",
        "       - No def, return, or name is required.\n",
        "  - Calling Functions:\n",
        "    - Standard Function Call>>\n",
        "      - Pass arguments directly, matching the parameters' order or names.\n",
        "    - Calling Functions with Default Parameters>>\n",
        "      - Pass an arbitrary number of positional arguments.\n",
        "    - Calling Lambda Functions>>\n",
        "      - Call the lambda function using its variable name.\n",
        "\n",
        "\n",
        "\n",
        "\n",
        "\n",
        "\n",
        "\n",
        "\n",
        "   "
      ],
      "metadata": {
        "id": "Wyp6PGzx3ROo"
      }
    },
    {
      "cell_type": "markdown",
      "source": [
        "4. What is the purpose of the 'return' statement in a Python function?\n",
        "   - The return statement in a Python function is used to:\n",
        "     - Send a Value Back to the Caller:\n",
        "       - The return statement allows a function to return a value or result to\n",
        "         the code that called it.\n",
        "       - Without return, the function implicitly returns None\n",
        "\n",
        "     - Exit the Function:\n",
        "       - When a return statement is executed, the function terminates\n",
        "         immediately, and any code after the return is not executed.\n",
        "     - Return Multiple Values:\n",
        "       - A function can return multiple values as a tuple. This is useful when  \n",
        "         a single function needs to provide multiple results.\n",
        "     - Provide Output for Reuse:\n",
        "       - The return statement allows functions to produce results that can be reused in other parts of the program."
      ],
      "metadata": {
        "id": "_9VTdjUx3TKc"
      }
    },
    {
      "cell_type": "markdown",
      "source": [
        "5. What are iterators in Python and how do they differ from iterables?\n",
        "   - In Python, iterators and iterables are foundational concepts in working\n",
        "     with sequences of data.\n",
        "   - Iterator:\n",
        "     - An iterator is an object that produces items from an iterable, one at a\n",
        "       time, when called using the next() function.\n",
        "     - An iterator must implement the __iter__() method (returns itself) and  \n",
        "       the __next__() method (returns the next element or raises StopIteration when there are no more elements).\n",
        "   - Key Differences Between Iterables and Iterators:\n",
        "     - Definition :\n",
        "       - Iterable-An object capable of returning an iterator.\n",
        "       - Iterator-An object that can be iterated over to get items one at a\n",
        "         time.\n",
        "     - Methods :\n",
        "       - Iterable-Must have an __iter__() method.\n",
        "       - Iterator-Must have both __iter__() and __next__() methods.\n",
        "     - Usage :    \n",
        "       - Iterable-Used as a source for creating iterators.\n",
        "       - Iterator-Used to fetch elements lazily (one at a time).\n"
      ],
      "metadata": {
        "id": "hLQGQXqL3S_w"
      }
    },
    {
      "cell_type": "markdown",
      "source": [
        "6. Explain the concept of generators in Python and how they are defined.\n",
        "   - Generators are a special type of iterable in Python that allow you to\n",
        "     iterate over a sequence of values lazily, i.e., one value at a time, as needed. They are memory-efficient and are particularly useful when working with large datasets or infinite sequences.\n",
        "   - Defining a Generator:\n",
        "     - A generator is defined like a normal function, but instead of using\n",
        "       return, it uses yield.\n",
        "       \n",
        "\n"
      ],
      "metadata": {
        "id": "N-YUk42H3S1O"
      }
    },
    {
      "cell_type": "code",
      "source": [
        "def my_generator():\n",
        "    yield 1\n",
        "    yield 2\n",
        "    yield 3\n",
        "\n",
        "# Using the generator\n",
        "gen = my_generator()\n",
        "print(next(gen))  # Output: 1\n",
        "print(next(gen))  # Output: 2\n",
        "print(next(gen))  # Output: 3\n",
        "# print(next(gen))  # Raises StopIteration\n"
      ],
      "metadata": {
        "id": "Xc9MY8eXBTV8"
      },
      "execution_count": null,
      "outputs": []
    },
    {
      "cell_type": "markdown",
      "source": [
        "7. What are the advantages of using generators over regular functions?\n",
        "   - Generators offer several advantages over regular functions, particularly\n",
        "     when dealing with large datasets or scenarios requiring efficient memory usage.\n",
        "   - Here are the key benefits:-\n",
        "     - Memory Efficiency: Generators produce values one at a time, on demand,\n",
        "       without storing the entire sequence in memory.\n",
        "     - Lazy Evaluation: Generators calculate values only when requested, which\n",
        "       means computations are deferred until they’re needed.\n",
        "     - Infinite Sequences: Generators can represent infinite sequences    without running out of memory because they don't precompute values."
      ],
      "metadata": {
        "id": "Dd8SiQRo3Shb"
      }
    },
    {
      "cell_type": "markdown",
      "source": [
        "8. What is a lambda function in Python and when is it typically used?\n",
        "   - A lambda function in Python is a small, anonymous function defined using\n",
        "     the lambda keyword. Unlike regular functions defined with def, a lambda function is a single-line function that can take any number of arguments but has a single expression as its body.\n",
        "   - Use Lambda Function:\n",
        "     - When a simple function is needed temporarily.\n",
        "     - As arguments to higher-order functions (map(), filter(), sorted(), etc.).\n",
        "     - For inline operations that do not require naming or reuse.\n",
        "     - To enhance code compactness in simple scenarios."
      ],
      "metadata": {
        "id": "pCBTGu4F3R-L"
      }
    },
    {
      "cell_type": "markdown",
      "source": [
        "9. Explain the purpose and usage of the `map()` function in Python.\n",
        "   - The map() function is a built-in Python function that applies a specified\n",
        "     function to each item in an iterable (e.g., a list, tuple, etc.) and returns a map object (an iterator) containing the results.\n",
        "   - Key Features of map():\n",
        "     - Lazily evaluated: It returns an iterator instead of a list, which is\n",
        "       memory-efficient.\n",
        "     - Works with any iterable (e.g., list, tuple, set, dictionary, etc.).\n",
        "     - Can be used with user-defined or built-in functions.\n",
        "   - Example Usage of map():\n",
        "     - Single Iterable - Applying a function to each element of a list.\n",
        "     - Multiple Iterables - If multiple iterables are passed, the function must\n",
        "       take as many arguments as there are iterables.\n",
        "     - Using Lambda with map()  - A lambda function is often used with map()  \n",
        "       for conciseness.\n",
        "\n",
        "\n",
        "\n"
      ],
      "metadata": {
        "id": "n7mnJ4xPDA0L"
      }
    },
    {
      "cell_type": "markdown",
      "source": [
        "10. What is the difference between `map()`, `reduce()`, and `filter()` functions in Python?\n",
        "    - These three functions, part of Python's functional programming toolkit, operate on iterables.\n",
        "    - Here's a detailed breakdown of their purpose, behavior, and differences:\n",
        "    - Overview of Each Function:\n",
        "      - map() - Applies a given function to each item in an iterable and  \n",
        "        returns an iterator of the transformed items.\n",
        "      - reduce() - Filters elements from an iterable based on a condition\n",
        "        (function returning True or False).\n",
        "      - filter() - Applies a function cumulatively to the items in an iterable,\n",
        "        reducing them to a single value.\n",
        "    - Syntax :\n",
        "      - map() - Syntax: map(function, iterable, ...)\n",
        "      - reduce() - Syntax: filter(function, iterable)\n",
        "      - filter() - reduce(function, iterable[, initializer])\n",
        "    - Key Characteristics :    \n",
        "      - map() - Transforms each element in the iterable. Supports multiple\n",
        "        iterables as inputs if the function accepts multiple arguments.\n",
        "      - reduce() - Filters elements for which the function returns True.Function must return a boolean (True or False).\n",
        "      - filter() - Cumulatively applies a function to reduce the iterable to a single value.The reduce() function must be imported from the functools module.\n",
        "\n",
        "\n"
      ],
      "metadata": {
        "id": "tjPUm-uvEJST"
      }
    },
    {
      "cell_type": "markdown",
      "source": [
        "#11. Using pen & Paper write the internal mechanism for sum operation using reduce function on this given list:[47,11,42,13].\n",
        "[image] ('https://drive.google.com/file/d/1dArbLxW51jS-XNrY16iKbalnXBwMiWR9/view?usp=sharing')\n"
      ],
      "metadata": {
        "id": "4-C5IJNDL5sA"
      }
    },
    {
      "cell_type": "markdown",
      "source": [
        "#Practical Questions:"
      ],
      "metadata": {
        "id": "hm5xz7vXIbZt"
      }
    },
    {
      "cell_type": "code",
      "source": [
        "#1. Write a Python function that takes a list of numbers as input and returns the sum of all even numbers in the list.\n",
        "\n",
        "def sum_of_even_numbers(numbers):\n",
        "   return sum(num for num in numbers if num % 2 == 0)\n",
        "\n",
        "numbers = [1, 2, 3, 4, 5, 6]\n",
        "result = sum_of_even_numbers(numbers)\n",
        "print(f\"The sum of all even numbers is: {result}\")\n"
      ],
      "metadata": {
        "colab": {
          "base_uri": "https://localhost:8080/"
        },
        "id": "qQkv8fQuI_4s",
        "outputId": "ed4e9d43-1098-49ae-823a-cab3ff86d4c7"
      },
      "execution_count": 26,
      "outputs": [
        {
          "output_type": "stream",
          "name": "stdout",
          "text": [
            "The sum of all even numbers is: 12\n"
          ]
        }
      ]
    },
    {
      "cell_type": "code",
      "source": [
        "#2. Create a Python function that accepts a string and returns the reverse of that string.\n",
        "\n",
        "def reverse_string(s):\n",
        "   return s[::-1]\n",
        "\n",
        "input_string = \"Hello, World!\"\n",
        "reversed_string = reverse_string(input_string)\n",
        "print(f\"The reversed string is: {reversed_string}\")\n",
        "\n"
      ],
      "metadata": {
        "colab": {
          "base_uri": "https://localhost:8080/"
        },
        "id": "wDNAmt_Q_UPl",
        "outputId": "e6532d31-d139-41e5-c7fb-a3c822184f09"
      },
      "execution_count": 27,
      "outputs": [
        {
          "output_type": "stream",
          "name": "stdout",
          "text": [
            "The reversed string is: !dlroW ,olleH\n"
          ]
        }
      ]
    },
    {
      "cell_type": "code",
      "source": [
        "#3. Implement a Python function that takes a list of integers and returns a new list containing the squares of each number.\n",
        "\n",
        "def square_numbers(numbers):\n",
        "  return [num ** 2 for num in numbers]\n",
        "\n",
        "numbers = [1, 2, 3, 4, 5]\n",
        "squared_numbers = square_numbers(numbers)\n",
        "print(f\"The squared numbers are: {squared_numbers}\")"
      ],
      "metadata": {
        "colab": {
          "base_uri": "https://localhost:8080/"
        },
        "id": "if2byGYbAYwO",
        "outputId": "4443c022-019b-49d2-ca93-3cfde2c8dc33"
      },
      "execution_count": 28,
      "outputs": [
        {
          "output_type": "stream",
          "name": "stdout",
          "text": [
            "The squared numbers are: [1, 4, 9, 16, 25]\n"
          ]
        }
      ]
    },
    {
      "cell_type": "code",
      "source": [
        "#4. Write a Python function that checks if a given number is prime or not from 1 to 200.\n",
        "\n",
        "a = range(1, 201)\n",
        "b = filter(lambda c: all(c % i != 0 for i in range(2, int(c**0.5) + 1)), a)\n",
        "print(list(b))\n",
        "print(\"ok\")"
      ],
      "metadata": {
        "colab": {
          "base_uri": "https://localhost:8080/"
        },
        "id": "rPCShrA9Ay-4",
        "outputId": "5864fc7b-1746-4af6-f467-1feaef4d721d"
      },
      "execution_count": 46,
      "outputs": [
        {
          "output_type": "stream",
          "name": "stdout",
          "text": [
            "[1, 2, 3, 5, 7, 11, 13, 17, 19, 23, 29, 31, 37, 41, 43, 47, 53, 59, 61, 67, 71, 73, 79, 83, 89, 97, 101, 103, 107, 109, 113, 127, 131, 137, 139, 149, 151, 157, 163, 167, 173, 179, 181, 191, 193, 197, 199]\n",
            "ok\n"
          ]
        }
      ]
    },
    {
      "cell_type": "code",
      "source": [
        "#5. Create an iterator class in Python that generates the Fibonacci sequence up to a specified number of terms.\n",
        "\n",
        "class FibonacciIterator:\n",
        "    def __init__(self, n):\n",
        "        self.n = n\n",
        "        self.a, self.b = 0, 1\n",
        "\n",
        "    def __iter__(self):\n",
        "        return self\n",
        "\n",
        "    def __next__(self):\n",
        "        if self.n <= 0:\n",
        "            raise StopIteration\n",
        "        current = self.a\n",
        "        self.a, self.b = self.b, self.a + self.b\n",
        "        self.n -= 1\n",
        "        return current\n",
        "\n",
        "fibonacci_sequence = FibonacciIterator(10)\n",
        "for num in fibonacci_sequence:\n",
        "    print(num)"
      ],
      "metadata": {
        "colab": {
          "base_uri": "https://localhost:8080/"
        },
        "id": "HrtnsLZeBVF3",
        "outputId": "bcaa830a-8c10-46a5-d251-83529bb5c4b1"
      },
      "execution_count": 47,
      "outputs": [
        {
          "output_type": "stream",
          "name": "stdout",
          "text": [
            "0\n",
            "1\n",
            "1\n",
            "2\n",
            "3\n",
            "5\n",
            "8\n",
            "13\n",
            "21\n",
            "34\n"
          ]
        }
      ]
    },
    {
      "cell_type": "code",
      "source": [
        "#6. Write a generator function in Python that yields the powers of 2 up to a given exponent.\n",
        "\n",
        "def powers_of_2_yield(n):\n",
        "    for i in range(n + 1):\n",
        "        yield 2 ** i\n",
        "\n",
        "for power in powers_of_2_yield(5):\n",
        "    print(power)"
      ],
      "metadata": {
        "colab": {
          "base_uri": "https://localhost:8080/"
        },
        "id": "u_R0_HOjErlH",
        "outputId": "b796480a-f089-47fd-fc96-dc23e7591f22"
      },
      "execution_count": 48,
      "outputs": [
        {
          "output_type": "stream",
          "name": "stdout",
          "text": [
            "1\n",
            "2\n",
            "4\n",
            "8\n",
            "16\n",
            "32\n"
          ]
        }
      ]
    },
    {
      "cell_type": "code",
      "source": [
        "#7. Implement a generator function that reads a file line by line and yields each line as a string.\n",
        "\n",
        "file_content = [\n",
        "    \"Hello, this is the first line.\",\n",
        "    \"This is the second line.\",\n",
        "    \"And this is the third line.\",\n",
        "    \"This is the fourth line.\",\n",
        "]\n",
        "\n",
        "\n",
        "def read_file_line_by_line(content):\n",
        "    for line in content:\n",
        "        yield line.strip()\n",
        "\n",
        "\n",
        "for line in read_file_line_by_line(file_content):\n",
        "    print(line)\n"
      ],
      "metadata": {
        "colab": {
          "base_uri": "https://localhost:8080/"
        },
        "id": "B9yP1YOwFAL8",
        "outputId": "9811275b-61a3-4808-8360-79d64738e432"
      },
      "execution_count": 49,
      "outputs": [
        {
          "output_type": "stream",
          "name": "stdout",
          "text": [
            "Hello, this is the first line.\n",
            "This is the second line.\n",
            "And this is the third line.\n",
            "This is the fourth line.\n"
          ]
        }
      ]
    },
    {
      "cell_type": "code",
      "source": [
        "#8. Use a lambda function in Python to sort a list of tuples based on the second element of each tuple.\n",
        "\n",
        "tuples_list = [(1, 3), (2, 1), (3, 2), (4, 4)]\n",
        "sorted_list = sorted(tuples_list, key=lambda x: x[1])\n",
        "print(sorted_list)"
      ],
      "metadata": {
        "colab": {
          "base_uri": "https://localhost:8080/"
        },
        "id": "sM1N8JViFGg7",
        "outputId": "dc4ac383-f9ff-4b3d-b8b4-8f8d8e807e4d"
      },
      "execution_count": 50,
      "outputs": [
        {
          "output_type": "stream",
          "name": "stdout",
          "text": [
            "[(2, 1), (3, 2), (1, 3), (4, 4)]\n"
          ]
        }
      ]
    },
    {
      "cell_type": "code",
      "source": [
        "#9. Write a Python program that uses `map()` to convert a list of temperatures from Celsius to Fahrenheit.\n",
        "\n",
        "celsius_temperatures = [20,40,22,25]\n",
        "def celsius_to_fahrenheit(celsius):\n",
        "    return (celsius * 9/5) + 32\n",
        "fahrenheit_temperatures = list(map(celsius_to_fahrenheit, celsius_temperatures))\n",
        "\n",
        "print(fahrenheit_temperatures)"
      ],
      "metadata": {
        "colab": {
          "base_uri": "https://localhost:8080/"
        },
        "id": "DSlHli8MFNJk",
        "outputId": "19fd7eca-1866-4b4d-b9a3-b42e7965f6ef"
      },
      "execution_count": 51,
      "outputs": [
        {
          "output_type": "stream",
          "name": "stdout",
          "text": [
            "[68.0, 104.0, 71.6, 77.0]\n"
          ]
        }
      ]
    },
    {
      "cell_type": "code",
      "source": [
        "#10. Create a Python program that uses `filter()` to remove all the vowels from a given string.\n",
        "\n",
        "def is_not_vowel(char):\n",
        "    return char.lower() not in 'aeiou'\n",
        "input_string = \"Hello, World!\"\n",
        "filtered_string = ''.join(filter(is_not_vowel, input_string))\n",
        "\n",
        "print(filtered_string)"
      ],
      "metadata": {
        "colab": {
          "base_uri": "https://localhost:8080/"
        },
        "id": "R8COwa2nFTha",
        "outputId": "6190e1db-0b78-46d7-cf9f-77e64c902bbe"
      },
      "execution_count": 52,
      "outputs": [
        {
          "output_type": "stream",
          "name": "stdout",
          "text": [
            "Hll, Wrld!\n"
          ]
        }
      ]
    },
    {
      "cell_type": "code",
      "source": [
        "#11) Imagine an accounting routine used in a book shop. It works on a list with sublists, which look like this:\n",
        "#Write a Python program, which returns a list with 2-tuples. Each tuple consists of the order number and the\n",
        "#product of the price per item and the quantity. The product should be increased by 10,- € if the value of the\n",
        "#order is smaller than 100,00 €.\n",
        "\n",
        "#Write a Python program using lambda and map.\n",
        "#Write a Python program using lambda and map."
      ],
      "metadata": {
        "id": "AvEPQslHFZVf"
      },
      "execution_count": null,
      "outputs": []
    },
    {
      "cell_type": "code",
      "source": [
        "orders = [\n",
        "    [101, 4,40.00],\n",
        "    [202, 5, 56.80],\n",
        "    [302, 3, 32.95],\n",
        "    [402, 3, 24.99],\n",
        "]\n",
        "def calculate_order(order):\n",
        "    order_number, price_per_item, quantity = order\n",
        "    total_price = price_per_item * quantity\n",
        "    if total_price < 100:\n",
        "        total_price += 10\n",
        "    return (order_number, total_price)\n",
        "result = list(map(lambda order: calculate_order(order), orders))\n",
        "\n",
        "print(result)"
      ],
      "metadata": {
        "colab": {
          "base_uri": "https://localhost:8080/"
        },
        "id": "Scn4zUnhFvkl",
        "outputId": "25b3d1e3-45a1-46c6-9435-b3adaa0be583"
      },
      "execution_count": 53,
      "outputs": [
        {
          "output_type": "stream",
          "name": "stdout",
          "text": [
            "[(101, 160.0), (202, 284.0), (302, 108.85000000000001), (402, 84.97)]\n"
          ]
        }
      ]
    },
    {
      "cell_type": "code",
      "source": [
        ""
      ],
      "metadata": {
        "id": "qFU2LgV4HnlG"
      },
      "execution_count": null,
      "outputs": []
    }
  ]
}